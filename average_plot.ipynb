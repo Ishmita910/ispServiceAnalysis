{
 "cells": [
  {
   "cell_type": "code",
   "execution_count": 1,
   "metadata": {},
   "outputs": [],
   "source": [
    "import pandas as pd\n",
    "import csv"
   ]
  },
  {
   "cell_type": "code",
   "execution_count": 2,
   "metadata": {},
   "outputs": [],
   "source": [
    "df= pd.read_csv(\"Average_download_upload_speeds_by_State.csv\")"
   ]
  },
  {
   "cell_type": "code",
   "execution_count": 3,
   "metadata": {},
   "outputs": [
    {
     "data": {
      "text/html": [
       "<div>\n",
       "<style scoped>\n",
       "    .dataframe tbody tr th:only-of-type {\n",
       "        vertical-align: middle;\n",
       "    }\n",
       "\n",
       "    .dataframe tbody tr th {\n",
       "        vertical-align: top;\n",
       "    }\n",
       "\n",
       "    .dataframe thead th {\n",
       "        text-align: right;\n",
       "    }\n",
       "</style>\n",
       "<table border=\"1\" class=\"dataframe\">\n",
       "  <thead>\n",
       "    <tr style=\"text-align: right;\">\n",
       "      <th></th>\n",
       "      <th>State</th>\n",
       "      <th>Max Advertised Downstream Speed (mbps)</th>\n",
       "      <th>Max Advertised Upstream Speed (mbps)</th>\n",
       "      <th>Max CIR Downstream Speed (mbps)</th>\n",
       "      <th>Max CIR Upstream Speed (mbps)</th>\n",
       "    </tr>\n",
       "  </thead>\n",
       "  <tbody>\n",
       "    <tr>\n",
       "      <th>0</th>\n",
       "      <td>AK</td>\n",
       "      <td>68.417806</td>\n",
       "      <td>5.168614</td>\n",
       "      <td>12.643135</td>\n",
       "      <td>9.026021</td>\n",
       "    </tr>\n",
       "    <tr>\n",
       "      <th>1</th>\n",
       "      <td>AL</td>\n",
       "      <td>46.526628</td>\n",
       "      <td>11.644438</td>\n",
       "      <td>8.364268</td>\n",
       "      <td>5.890953</td>\n",
       "    </tr>\n",
       "    <tr>\n",
       "      <th>2</th>\n",
       "      <td>AR</td>\n",
       "      <td>32.092688</td>\n",
       "      <td>7.024608</td>\n",
       "      <td>14.187174</td>\n",
       "      <td>8.295491</td>\n",
       "    </tr>\n",
       "    <tr>\n",
       "      <th>3</th>\n",
       "      <td>AS</td>\n",
       "      <td>4.916436</td>\n",
       "      <td>4.912000</td>\n",
       "      <td>4.930705</td>\n",
       "      <td>4.924188</td>\n",
       "    </tr>\n",
       "    <tr>\n",
       "      <th>4</th>\n",
       "      <td>AZ</td>\n",
       "      <td>36.070985</td>\n",
       "      <td>8.500237</td>\n",
       "      <td>55.629490</td>\n",
       "      <td>45.531177</td>\n",
       "    </tr>\n",
       "  </tbody>\n",
       "</table>\n",
       "</div>"
      ],
      "text/plain": [
       "  State  Max Advertised Downstream Speed (mbps)  \\\n",
       "0    AK                               68.417806   \n",
       "1    AL                               46.526628   \n",
       "2    AR                               32.092688   \n",
       "3    AS                                4.916436   \n",
       "4    AZ                               36.070985   \n",
       "\n",
       "   Max Advertised Upstream Speed (mbps)  Max CIR Downstream Speed (mbps)  \\\n",
       "0                              5.168614                        12.643135   \n",
       "1                             11.644438                         8.364268   \n",
       "2                              7.024608                        14.187174   \n",
       "3                              4.912000                         4.930705   \n",
       "4                              8.500237                        55.629490   \n",
       "\n",
       "   Max CIR Upstream Speed (mbps)  \n",
       "0                       9.026021  \n",
       "1                       5.890953  \n",
       "2                       8.295491  \n",
       "3                       4.924188  \n",
       "4                      45.531177  "
      ]
     },
     "execution_count": 3,
     "metadata": {},
     "output_type": "execute_result"
    }
   ],
   "source": [
    "df.head()"
   ]
  },
  {
   "cell_type": "code",
   "execution_count": 4,
   "metadata": {},
   "outputs": [
    {
     "data": {
      "text/plain": [
       "(56, 5)"
      ]
     },
     "execution_count": 4,
     "metadata": {},
     "output_type": "execute_result"
    }
   ],
   "source": [
    "df.shape"
   ]
  },
  {
   "cell_type": "code",
   "execution_count": 5,
   "metadata": {},
   "outputs": [],
   "source": [
    "import geopandas as gpd"
   ]
  },
  {
   "cell_type": "code",
   "execution_count": 6,
   "metadata": {},
   "outputs": [],
   "source": [
    "from geopandas import GeoDataFrame"
   ]
  },
  {
   "cell_type": "code",
   "execution_count": 7,
   "metadata": {},
   "outputs": [],
   "source": [
    "CSAshp = gpd.GeoDataFrame.from_file('Cellular_Service_Areas.shp')"
   ]
  },
  {
   "cell_type": "code",
   "execution_count": 8,
   "metadata": {},
   "outputs": [
    {
     "data": {
      "text/html": [
       "<div>\n",
       "<style scoped>\n",
       "    .dataframe tbody tr th:only-of-type {\n",
       "        vertical-align: middle;\n",
       "    }\n",
       "\n",
       "    .dataframe tbody tr th {\n",
       "        vertical-align: top;\n",
       "    }\n",
       "\n",
       "    .dataframe thead th {\n",
       "        text-align: right;\n",
       "    }\n",
       "</style>\n",
       "<table border=\"1\" class=\"dataframe\">\n",
       "  <thead>\n",
       "    <tr style=\"text-align: right;\">\n",
       "      <th></th>\n",
       "      <th>OBJECTID</th>\n",
       "      <th>CALL</th>\n",
       "      <th>LICENSEE</th>\n",
       "      <th>ULS_ID</th>\n",
       "      <th>Shape__Are</th>\n",
       "      <th>Shape__Len</th>\n",
       "      <th>geometry</th>\n",
       "    </tr>\n",
       "  </thead>\n",
       "  <tbody>\n",
       "    <tr>\n",
       "      <th>0</th>\n",
       "      <td>1</td>\n",
       "      <td>KNKA200</td>\n",
       "      <td>CHICAGO SMSA LP</td>\n",
       "      <td>13170</td>\n",
       "      <td>1.666041</td>\n",
       "      <td>5.675427</td>\n",
       "      <td>POLYGON ((-87.357585999794 41.4650000001499, -...</td>\n",
       "    </tr>\n",
       "    <tr>\n",
       "      <th>1</th>\n",
       "      <td>2</td>\n",
       "      <td>KNKA201</td>\n",
       "      <td>CELLCO PARTNERSHIP</td>\n",
       "      <td>13171</td>\n",
       "      <td>1.903891</td>\n",
       "      <td>6.613083</td>\n",
       "      <td>POLYGON ((-70.3842859996991 41.9224999997752, ...</td>\n",
       "    </tr>\n",
       "    <tr>\n",
       "      <th>2</th>\n",
       "      <td>3</td>\n",
       "      <td>KNKA202</td>\n",
       "      <td>PITTSBURGH SMSA LP</td>\n",
       "      <td>12424</td>\n",
       "      <td>1.612659</td>\n",
       "      <td>5.462287</td>\n",
       "      <td>POLYGON ((-78.945719999978 40.3531309999957, -...</td>\n",
       "    </tr>\n",
       "    <tr>\n",
       "      <th>3</th>\n",
       "      <td>4</td>\n",
       "      <td>KNKA203</td>\n",
       "      <td>UPSTATE CELLULAR NETWORK</td>\n",
       "      <td>12651</td>\n",
       "      <td>0.984579</td>\n",
       "      <td>4.138500</td>\n",
       "      <td>POLYGON ((-78.2709949996195 43.0684010000062, ...</td>\n",
       "    </tr>\n",
       "    <tr>\n",
       "      <th>4</th>\n",
       "      <td>5</td>\n",
       "      <td>KNKA204</td>\n",
       "      <td>CELLCO PARTNERSHIP</td>\n",
       "      <td>13196</td>\n",
       "      <td>1.733456</td>\n",
       "      <td>6.074915</td>\n",
       "      <td>POLYGON ((-74.1787399998511 39.5982999999451, ...</td>\n",
       "    </tr>\n",
       "  </tbody>\n",
       "</table>\n",
       "</div>"
      ],
      "text/plain": [
       "   OBJECTID     CALL                  LICENSEE  ULS_ID  Shape__Are  \\\n",
       "0         1  KNKA200           CHICAGO SMSA LP   13170    1.666041   \n",
       "1         2  KNKA201        CELLCO PARTNERSHIP   13171    1.903891   \n",
       "2         3  KNKA202        PITTSBURGH SMSA LP   12424    1.612659   \n",
       "3         4  KNKA203  UPSTATE CELLULAR NETWORK   12651    0.984579   \n",
       "4         5  KNKA204        CELLCO PARTNERSHIP   13196    1.733456   \n",
       "\n",
       "   Shape__Len                                           geometry  \n",
       "0    5.675427  POLYGON ((-87.357585999794 41.4650000001499, -...  \n",
       "1    6.613083  POLYGON ((-70.3842859996991 41.9224999997752, ...  \n",
       "2    5.462287  POLYGON ((-78.945719999978 40.3531309999957, -...  \n",
       "3    4.138500  POLYGON ((-78.2709949996195 43.0684010000062, ...  \n",
       "4    6.074915  POLYGON ((-74.1787399998511 39.5982999999451, ...  "
      ]
     },
     "execution_count": 8,
     "metadata": {},
     "output_type": "execute_result"
    }
   ],
   "source": [
    "CSAshp.head()"
   ]
  },
  {
   "cell_type": "code",
   "execution_count": 9,
   "metadata": {},
   "outputs": [],
   "source": [
    "%matplotlib inline"
   ]
  },
  {
   "cell_type": "code",
   "execution_count": 10,
   "metadata": {},
   "outputs": [
    {
     "data": {
      "text/plain": [
       "<matplotlib.axes._subplots.AxesSubplot at 0x2991da2eb70>"
      ]
     },
     "execution_count": 10,
     "metadata": {},
     "output_type": "execute_result"
    },
    {
     "data": {
      "image/png": "[encoded data removed]",
      "text/plain": [
       "<Figure size 432x288 with 1 Axes>"
      ]
     },
     "metadata": {},
     "output_type": "display_data"
    }
   ],
   "source": [
    "CSAshp.plot()"
   ]
  },
  {
   "cell_type": "code",
   "execution_count": null,
   "metadata": {},
   "outputs": [],
   "source": []
  }
 ],
 "metadata": {
  "kernelspec": {
   "display_name": "Python 3",
   "language": "python",
   "name": "python3"
  },
  "language_info": {
   "codemirror_mode": {
    "name": "ipython",
    "version": 3
   },
   "file_extension": ".py",
   "mimetype": "text/x-python",
   "name": "python",
   "nbconvert_exporter": "python",
   "pygments_lexer": "ipython3",
   "version": "3.6.3"
  }
 },
 "nbformat": 4,
 "nbformat_minor": 2
}
